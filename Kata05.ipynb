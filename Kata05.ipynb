{
 "cells": [
  {
   "cell_type": "markdown",
   "metadata": {},
   "source": [
    "# Distancia entre planetas"
   ]
  },
  {
   "cell_type": "code",
   "execution_count": 3,
   "metadata": {},
   "outputs": [
    {
     "name": "stdout",
     "output_type": "stream",
     "text": [
      "La distancia es de: 390577533.93 millas\n"
     ]
    }
   ],
   "source": [
    "tierra = 149597870\n",
    "jupiter = 778547200\n",
    "\n",
    "distancia = (jupiter - tierra)*.621\n",
    "\n",
    "print(\"La distancia es de:\", distancia, \"millas\")"
   ]
  },
  {
   "cell_type": "markdown",
   "metadata": {},
   "source": [
    "# Distancia 2"
   ]
  },
  {
   "cell_type": "code",
   "execution_count": 4,
   "metadata": {},
   "outputs": [
    {
     "name": "stdout",
     "output_type": "stream",
     "text": [
      "La distancia en kilometros entre Valeria y Jessica es de 7 kilometros\n",
      "La distancia en millas entre Valeria y Jessica es de 7 millas\n"
     ]
    }
   ],
   "source": [
    "planeta1_nombre = input(\"Ingrese el nombre del primer planeta\")\n",
    "planeta2_nombre = input(\"Ingrese el nombre del segundo planeta\")\n",
    "\n",
    "planeta1 = input(\"Ingrese la distancia del primer planeta\")\n",
    "planeta2 = input(\"Ingrese la distancia del segundo planeta\")\n",
    "\n",
    "planeta1 = int(planeta1)\n",
    "planeta2 = int(planeta2)\n",
    "\n",
    "distancia = (planeta2-planeta1)\n",
    "print(\"La distancia en kilometros entre\", planeta1_nombre, \"y\", planeta2_nombre, \"es de\", distancia, \"kilometros\")\n",
    "\n",
    "distancia_millas = distancia*.621\n",
    "print(\"La distancia en millas entre\", planeta1_nombre, \"y\", planeta2_nombre, \"es de\", abs(distancia), \"millas\")"
   ]
  }
 ],
 "metadata": {
  "interpreter": {
   "hash": "ed124c08318ab7873dd950a89e08c112bba7e92e4e43c80fb1e7aa24eab43e68"
  },
  "kernelspec": {
   "display_name": "Python 3.10.2 64-bit",
   "language": "python",
   "name": "python3"
  },
  "language_info": {
   "codemirror_mode": {
    "name": "ipython",
    "version": 3
   },
   "file_extension": ".py",
   "mimetype": "text/x-python",
   "name": "python",
   "nbconvert_exporter": "python",
   "pygments_lexer": "ipython3",
   "version": "3.10.2"
  },
  "orig_nbformat": 4
 },
 "nbformat": 4,
 "nbformat_minor": 2
}
