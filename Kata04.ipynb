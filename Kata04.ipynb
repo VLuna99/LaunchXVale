{
 "cells": [
  {
   "cell_type": "markdown",
   "metadata": {},
   "source": [
    "# Ejercicio 1"
   ]
  },
  {
   "cell_type": "code",
   "execution_count": 2,
   "metadata": {},
   "outputs": [
    {
     "name": "stdout",
     "output_type": "stream",
     "text": [
      "There are several interesting facts about the Moon and how it affects life here on Earth.\n",
      "On average, the Moon moves 4cm away from the Earth every year\n",
      "The highest daylight temperature of the Moon is 127 Celsius.\n"
     ]
    }
   ],
   "source": [
    "text = \"\"\"Interesting facts about the Moon. The Moon is Earth's only satellite. There are several interesting facts about the Moon and how it affects life here on Earth.\n",
    "On average, the Moon moves 4cm away from the Earth every year. This yearly drift is not significant enough to cause immediate effects on Earth. The highest daylight temperature of the Moon is 127 C.\"\"\"\n",
    "\n",
    "text_parts = text.split(\". \")\n",
    "key_words = [\"average\", \"temperature\", \"distance\"]\n",
    "\n",
    "for sentence in text_parts:\n",
    "    for key_word in key_words:\n",
    "        if key_word in sentence:\n",
    "            print(sentence.replace(' C', ' Celsius'))\n",
    "            break"
   ]
  },
  {
   "cell_type": "markdown",
   "metadata": {},
   "source": [
    "# Ejercicio 2"
   ]
  },
  {
   "cell_type": "code",
   "execution_count": 3,
   "metadata": {},
   "outputs": [
    {
     "name": "stdout",
     "output_type": "stream",
     "text": [
      "\n",
      "Datos de Gravedad sobre: Ganímides\n",
      "-----------------------------------\n",
      "Nombre del planeta: Marte\n",
      "Gravedad en Ganímides: 0.00143 m/s2\n",
      "\n"
     ]
    }
   ],
   "source": [
    "name = \"Ganímides\"\n",
    "gravity = .00143\n",
    "planet = \"Marte\"\n",
    "\n",
    "title = \"f'datos de gravedad sobre {name}\"\n",
    "\n",
    "hechos = f\"\"\"{'-'*80}\n",
    "Nombre del planeta: {planet}\n",
    "Gravedad en {name}: {gravity * 1000} m/2 \"\"\"\n",
    "\n",
    "template = f\"\"\"\n",
    "Datos de Gravedad sobre: {name}\n",
    "-----------------------------------\n",
    "Nombre del planeta: {planet}\n",
    "Gravedad en {name}: {gravity} m/s2\n",
    "\"\"\"\n",
    "\n",
    "print(template.format(name=name, planet=planet, gravity=gravity*1000))"
   ]
  }
 ],
 "metadata": {
  "interpreter": {
   "hash": "ed124c08318ab7873dd950a89e08c112bba7e92e4e43c80fb1e7aa24eab43e68"
  },
  "kernelspec": {
   "display_name": "Python 3.10.2 64-bit",
   "language": "python",
   "name": "python3"
  },
  "language_info": {
   "codemirror_mode": {
    "name": "ipython",
    "version": 3
   },
   "file_extension": ".py",
   "mimetype": "text/x-python",
   "name": "python",
   "nbconvert_exporter": "python",
   "pygments_lexer": "ipython3",
   "version": "3.10.2"
  },
  "orig_nbformat": 4
 },
 "nbformat": 4,
 "nbformat_minor": 2
}
